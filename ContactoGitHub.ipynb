{
  "nbformat": 4,
  "nbformat_minor": 0,
  "metadata": {
    "colab": {
      "provenance": [],
      "collapsed_sections": [],
      "mount_file_id": "1VMpILP-E5VoIMXXjncHusoYHNoV5JDmC",
      "authorship_tag": "ABX9TyNd9+uztPdaolF2ZCPmdkrk",
      "include_colab_link": true
    },
    "kernelspec": {
      "name": "python3",
      "display_name": "Python 3"
    },
    "language_info": {
      "name": "python"
    }
  },
  "cells": [
    {
      "cell_type": "markdown",
      "metadata": {
        "id": "view-in-github",
        "colab_type": "text"
      },
      "source": [
        "<a href=\"https://colab.research.google.com/github/MAVILA111/0/blob/main/ContactoGitHub.ipynb\" target=\"_parent\"><img src=\"https://colab.research.google.com/assets/colab-badge.svg\" alt=\"Open In Colab\"/></a>"
      ]
    },
    {
      "cell_type": "code",
      "execution_count": null,
      "metadata": {
        "id": "HFhzuTpyDmYi"
      },
      "outputs": [],
      "source": [
        "import numpy as np\n",
        "import pandas as pd\n",
        "def p(d):\n",
        "  print(d)"
      ]
    },
    {
      "cell_type": "code",
      "source": [
        "p(\"hola mundo\")"
      ],
      "metadata": {
        "id": "7P_Pw0n1Ncq7",
        "outputId": "8f2a1bd4-d332-4f2c-8a71-0b74b082ba26",
        "colab": {
          "base_uri": "https://localhost:8080/"
        }
      },
      "execution_count": null,
      "outputs": [
        {
          "output_type": "stream",
          "name": "stdout",
          "text": [
            "hola mundo\n"
          ]
        }
      ]
    }
  ]
}